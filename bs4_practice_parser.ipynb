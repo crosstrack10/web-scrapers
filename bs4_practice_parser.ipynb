{
 "cells": [
  {
   "cell_type": "markdown",
   "id": "b8e2b16f-13fc-43fa-b62c-87cf00df0b29",
   "metadata": {},
   "source": [
    "# Beautiful Soup Practice Parser\n",
    "\n",
    "Retrieving Elmhurst University M.S. Data Science courses from the courses web page."
   ]
  },
  {
   "cell_type": "code",
   "execution_count": 1,
   "id": "c0c5522c-4508-450a-a2c1-25cb23dc8145",
   "metadata": {},
   "outputs": [],
   "source": [
    "# importing libraries\n",
    "import requests\n",
    "from bs4 import BeautifulSoup\n",
    "import pandas as pd\n",
    "\n",
    "# storing html url and performing http request\n",
    "url = 'https://www.elmhurst.edu/academics/departments/computer-science-information-systems/programs/m-s-data-science/courses/'\n",
    "page = requests.get(url)\n",
    "\n",
    "# instantiating beatiful soup object with html parser\n",
    "soup = BeautifulSoup(page.content, 'html.parser')"
   ]
  },
  {
   "cell_type": "code",
   "execution_count": 2,
   "id": "bad2d9cc-cff2-4233-a102-03258bf845a7",
   "metadata": {},
   "outputs": [],
   "source": [
    "# finding all \"accordion button\" classes\n",
    "# \"accordion button\" classes contain Elmhurst M.S Data Science course titles\n",
    "class_elements = soup.find_all(class_='accordion__button')"
   ]
  },
  {
   "cell_type": "code",
   "execution_count": 3,
   "id": "2d01c8af-f390-43e6-968e-c02961f95907",
   "metadata": {},
   "outputs": [
    {
     "name": "stdout",
     "output_type": "stream",
     "text": [
      "<button class=\"accordion__button\">MDS 523 / Data Warehousing</button>\n",
      "\n",
      "<button class=\"accordion__button\">MDS 534 / Introduction to Business Intelligence, Data Mining, and Predictive Modeling </button>\n",
      "\n",
      "<button class=\"accordion__button\">MDS 535 / Programming Environments for Modern Data</button>\n",
      "\n",
      "<button class=\"accordion__button\">MDS 546 / Quantitative Methods</button>\n",
      "\n",
      "<button class=\"accordion__button\">MDS 556 / Analytical Methods</button>\n",
      "\n",
      "<button class=\"accordion__button\">MDS 560 / Business Intelligence for Enterprise Value</button>\n",
      "\n",
      "<button class=\"accordion__button\">MDS 561 / Data Science Project Management for Enterprise Value</button>\n",
      "\n",
      "<button class=\"accordion__button\">MDS 562 / Data Science for Business Transformation</button>\n",
      "\n",
      "<button class=\"accordion__button\">MDS 564 / Advanced Machine Learning Applications</button>\n",
      "\n",
      "<button class=\"accordion__button\">MDS 570 / Special Topics in Data Science</button>\n",
      "\n",
      "<button class=\"accordion__button\">MDS 576 / Data Science Capstone</button>\n",
      "\n",
      "<button class=\"accordion__button\">MDS 581 / Thesis I</button>\n",
      "\n",
      "<button class=\"accordion__button\">MDS 582 / Thesis II</button>\n",
      "\n"
     ]
    }
   ],
   "source": [
    "# printing all class elements\n",
    "for class_element in class_elements:\n",
    "    print(class_element, end='\\n' * 2)"
   ]
  },
  {
   "cell_type": "code",
   "execution_count": 4,
   "id": "8ad4362b-1995-4eb0-8b36-9f8001bdc19c",
   "metadata": {},
   "outputs": [
    {
     "data": {
      "text/html": [
       "<div>\n",
       "<style scoped>\n",
       "    .dataframe tbody tr th:only-of-type {\n",
       "        vertical-align: middle;\n",
       "    }\n",
       "\n",
       "    .dataframe tbody tr th {\n",
       "        vertical-align: top;\n",
       "    }\n",
       "\n",
       "    .dataframe thead th {\n",
       "        text-align: right;\n",
       "    }\n",
       "</style>\n",
       "<table border=\"1\" class=\"dataframe\">\n",
       "  <thead>\n",
       "    <tr style=\"text-align: right;\">\n",
       "      <th></th>\n",
       "      <th>course</th>\n",
       "    </tr>\n",
       "  </thead>\n",
       "  <tbody>\n",
       "    <tr>\n",
       "      <th>0</th>\n",
       "      <td>MDS 523 - Data Warehousing</td>\n",
       "    </tr>\n",
       "    <tr>\n",
       "      <th>1</th>\n",
       "      <td>MDS 534 - Introduction to Business Intelligenc...</td>\n",
       "    </tr>\n",
       "    <tr>\n",
       "      <th>2</th>\n",
       "      <td>MDS 535 - Programming Environments for Modern ...</td>\n",
       "    </tr>\n",
       "    <tr>\n",
       "      <th>3</th>\n",
       "      <td>MDS 546 - Quantitative Methods</td>\n",
       "    </tr>\n",
       "    <tr>\n",
       "      <th>4</th>\n",
       "      <td>MDS 556 - Analytical Methods</td>\n",
       "    </tr>\n",
       "    <tr>\n",
       "      <th>5</th>\n",
       "      <td>MDS 560 - Business Intelligence for Enterprise...</td>\n",
       "    </tr>\n",
       "    <tr>\n",
       "      <th>6</th>\n",
       "      <td>MDS 561 - Data Science Project Management for ...</td>\n",
       "    </tr>\n",
       "    <tr>\n",
       "      <th>7</th>\n",
       "      <td>MDS 562 - Data Science for Business Transforma...</td>\n",
       "    </tr>\n",
       "    <tr>\n",
       "      <th>8</th>\n",
       "      <td>MDS 564 - Advanced Machine Learning Applications</td>\n",
       "    </tr>\n",
       "    <tr>\n",
       "      <th>9</th>\n",
       "      <td>MDS 570 - Special Topics in Data Science</td>\n",
       "    </tr>\n",
       "    <tr>\n",
       "      <th>10</th>\n",
       "      <td>MDS 576 - Data Science Capstone</td>\n",
       "    </tr>\n",
       "    <tr>\n",
       "      <th>11</th>\n",
       "      <td>MDS 581 - Thesis I</td>\n",
       "    </tr>\n",
       "    <tr>\n",
       "      <th>12</th>\n",
       "      <td>MDS 582 - Thesis II</td>\n",
       "    </tr>\n",
       "  </tbody>\n",
       "</table>\n",
       "</div>"
      ],
      "text/plain": [
       "                                               course\n",
       "0                          MDS 523 - Data Warehousing\n",
       "1   MDS 534 - Introduction to Business Intelligenc...\n",
       "2   MDS 535 - Programming Environments for Modern ...\n",
       "3                      MDS 546 - Quantitative Methods\n",
       "4                        MDS 556 - Analytical Methods\n",
       "5   MDS 560 - Business Intelligence for Enterprise...\n",
       "6   MDS 561 - Data Science Project Management for ...\n",
       "7   MDS 562 - Data Science for Business Transforma...\n",
       "8    MDS 564 - Advanced Machine Learning Applications\n",
       "9            MDS 570 - Special Topics in Data Science\n",
       "10                    MDS 576 - Data Science Capstone\n",
       "11                                 MDS 581 - Thesis I\n",
       "12                                MDS 582 - Thesis II"
      ]
     },
     "execution_count": 4,
     "metadata": {},
     "output_type": "execute_result"
    }
   ],
   "source": [
    "# creating empty list to store course titles\n",
    "course_list = []\n",
    "\n",
    "# storing class element text in list\n",
    "for class_element in class_elements:\n",
    "    if None in (class_element):\n",
    "        continue\n",
    "    class_element_text = class_element.text.replace('/', '-')\n",
    "    course_list.append(class_element_text)\n",
    "    \n",
    "# converting to series and displaying\n",
    "course_series = pd.DataFrame(course_list, columns=['course'])\n",
    "course_series"
   ]
  }
 ],
 "metadata": {
  "kernelspec": {
   "display_name": "Python 3",
   "language": "python",
   "name": "python3"
  },
  "language_info": {
   "codemirror_mode": {
    "name": "ipython",
    "version": 3
   },
   "file_extension": ".py",
   "mimetype": "text/x-python",
   "name": "python",
   "nbconvert_exporter": "python",
   "pygments_lexer": "ipython3",
   "version": "3.8.5"
  }
 },
 "nbformat": 4,
 "nbformat_minor": 5
}
